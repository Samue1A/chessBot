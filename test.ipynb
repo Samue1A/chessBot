{
 "cells": [
  {
   "cell_type": "code",
   "execution_count": 2,
   "metadata": {},
   "outputs": [],
   "source": [
    "import random\n",
    "\n",
    "# Load GM games from a file\n",
    "def load_gm_games(filename):\n",
    "    with open(filename, 'r') as file:\n",
    "        games_data = file.read()\n",
    "    games = games_data.split('\\n\\n')  # Assuming games are separated by double line breaks\n",
    "    position_map = {}\n",
    "    \n",
    "    # Process each game\n",
    "    for game in games:\n",
    "        moves = game.split()\n",
    "        for i in range(len(moves)):\n",
    "            position = ' '.join(moves[:i])\n",
    "            move = moves[i]\n",
    "            if position in position_map:\n",
    "                position_map[position].add(move)\n",
    "            else:\n",
    "                position_map[position] = {move}\n",
    "    \n",
    "    # # Remove game-ending results and unreachable positions\n",
    "    # for position in list(position_map.keys()):\n",
    "    #     if '1/2-1/2' in position_map[position] or '1-0' in position_map[position] or '0-1' in position_map[position]:\n",
    "    #         del position_map[position]\n",
    "    \n",
    "    return position_map\n",
    "\n",
    "# Check and suggest a move from a current position\n",
    "def suggest_move(position_map, current_position):\n",
    "    if current_position in position_map:\n",
    "        return random.choice(list(position_map[current_position]))\n",
    "    else:\n",
    "        return \"No matching GM position found.\"\n",
    "\n",
    "# Example usage\n",
    "filename = \"Games.txt\"  # Your GM games file\n",
    "position_map = load_gm_games(filename)\n",
    "current_position = \"e4 e5 Nf3 Nc6 Bc4 Bc5 c3\"  # An example current position\n",
    "suggested_move = suggest_move(position_map, current_position)\n",
    "print(\"Suggested move:\", suggested_move)\n"
   ]
  }
 ],
 "metadata": {
  "kernelspec": {
   "display_name": "Python 3",
   "language": "python",
   "name": "python3"
  },
  "language_info": {
   "codemirror_mode": {
    "name": "ipython",
    "version": 3
   },
   "file_extension": ".py",
   "mimetype": "text/x-python",
   "name": "python",
   "nbconvert_exporter": "python",
   "pygments_lexer": "ipython3",
   "version": "3.12.1"
  }
 },
 "nbformat": 4,
 "nbformat_minor": 2
}
